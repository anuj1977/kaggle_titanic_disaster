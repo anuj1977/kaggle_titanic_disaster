{
  "cells": [
    {
      "metadata": {
        "_uuid": "8f2839f25d086af736a60e9eeb907d3b93b6e0e5",
        "_cell_guid": "b1076dfc-b9ad-4769-8c92-a6c4dae69d19",
        "trusted": true
      },
      "cell_type": "code",
      "source": "# This Python 3 environment comes with many helpful analytics libraries installed\n# It is defined by the kaggle/python docker image: https://github.com/kaggle/docker-python\n# For example, here's several helpful packages to load in \n\nimport numpy as np # linear algebra\nimport pandas as pd # data processing, CSV file I/O (e.g. pd.read_csv)\n\n# Input data files are available in the \"../input/\" directory.\n# For example, running this (by clicking run or pressing Shift+Enter) will list the files in the input directory\n\nimport os\nprint(os.listdir(\"../input\"))\n\n# Any results you write to the current directory are saved as output.",
      "execution_count": 2,
      "outputs": [
        {
          "output_type": "stream",
          "text": "['train.csv', 'gender_submission.csv', 'test.csv']\n",
          "name": "stdout"
        }
      ]
    },
    {
      "metadata": {
        "_cell_guid": "79c7e3d0-c299-4dcb-8224-4455121ee9b0",
        "_uuid": "d629ff2d2480ee46fbb7e2d37f6b5fab8052498a",
        "trusted": true
      },
      "cell_type": "code",
      "source": "titanic_df = pd.read_csv(\"../input/train.csv\")",
      "execution_count": 31,
      "outputs": []
    },
    {
      "metadata": {
        "trusted": true,
        "_uuid": "eb9b6a2b5d9c24392c475483b936a1e2b3ddc26c"
      },
      "cell_type": "code",
      "source": "titanic_df.head()",
      "execution_count": 32,
      "outputs": [
        {
          "output_type": "execute_result",
          "execution_count": 32,
          "data": {
            "text/plain": "   PassengerId  Survived  Pclass    ...        Fare Cabin  Embarked\n0            1         0       3    ...      7.2500   NaN         S\n1            2         1       1    ...     71.2833   C85         C\n2            3         1       3    ...      7.9250   NaN         S\n3            4         1       1    ...     53.1000  C123         S\n4            5         0       3    ...      8.0500   NaN         S\n\n[5 rows x 12 columns]",
            "text/html": "<div>\n<style scoped>\n    .dataframe tbody tr th:only-of-type {\n        vertical-align: middle;\n    }\n\n    .dataframe tbody tr th {\n        vertical-align: top;\n    }\n\n    .dataframe thead th {\n        text-align: right;\n    }\n</style>\n<table border=\"1\" class=\"dataframe\">\n  <thead>\n    <tr style=\"text-align: right;\">\n      <th></th>\n      <th>PassengerId</th>\n      <th>Survived</th>\n      <th>Pclass</th>\n      <th>Name</th>\n      <th>Sex</th>\n      <th>Age</th>\n      <th>SibSp</th>\n      <th>Parch</th>\n      <th>Ticket</th>\n      <th>Fare</th>\n      <th>Cabin</th>\n      <th>Embarked</th>\n    </tr>\n  </thead>\n  <tbody>\n    <tr>\n      <th>0</th>\n      <td>1</td>\n      <td>0</td>\n      <td>3</td>\n      <td>Braund, Mr. Owen Harris</td>\n      <td>male</td>\n      <td>22.0</td>\n      <td>1</td>\n      <td>0</td>\n      <td>A/5 21171</td>\n      <td>7.2500</td>\n      <td>NaN</td>\n      <td>S</td>\n    </tr>\n    <tr>\n      <th>1</th>\n      <td>2</td>\n      <td>1</td>\n      <td>1</td>\n      <td>Cumings, Mrs. John Bradley (Florence Briggs Th...</td>\n      <td>female</td>\n      <td>38.0</td>\n      <td>1</td>\n      <td>0</td>\n      <td>PC 17599</td>\n      <td>71.2833</td>\n      <td>C85</td>\n      <td>C</td>\n    </tr>\n    <tr>\n      <th>2</th>\n      <td>3</td>\n      <td>1</td>\n      <td>3</td>\n      <td>Heikkinen, Miss. Laina</td>\n      <td>female</td>\n      <td>26.0</td>\n      <td>0</td>\n      <td>0</td>\n      <td>STON/O2. 3101282</td>\n      <td>7.9250</td>\n      <td>NaN</td>\n      <td>S</td>\n    </tr>\n    <tr>\n      <th>3</th>\n      <td>4</td>\n      <td>1</td>\n      <td>1</td>\n      <td>Futrelle, Mrs. Jacques Heath (Lily May Peel)</td>\n      <td>female</td>\n      <td>35.0</td>\n      <td>1</td>\n      <td>0</td>\n      <td>113803</td>\n      <td>53.1000</td>\n      <td>C123</td>\n      <td>S</td>\n    </tr>\n    <tr>\n      <th>4</th>\n      <td>5</td>\n      <td>0</td>\n      <td>3</td>\n      <td>Allen, Mr. William Henry</td>\n      <td>male</td>\n      <td>35.0</td>\n      <td>0</td>\n      <td>0</td>\n      <td>373450</td>\n      <td>8.0500</td>\n      <td>NaN</td>\n      <td>S</td>\n    </tr>\n  </tbody>\n</table>\n</div>"
          },
          "metadata": {}
        }
      ]
    },
    {
      "metadata": {
        "trusted": true,
        "scrolled": true,
        "_uuid": "b8c8fed0ae13079abc55e52950cfad6931428dda"
      },
      "cell_type": "code",
      "source": "titanic_df.columns",
      "execution_count": 33,
      "outputs": [
        {
          "output_type": "execute_result",
          "execution_count": 33,
          "data": {
            "text/plain": "Index(['PassengerId', 'Survived', 'Pclass', 'Name', 'Sex', 'Age', 'SibSp',\n       'Parch', 'Ticket', 'Fare', 'Cabin', 'Embarked'],\n      dtype='object')"
          },
          "metadata": {}
        }
      ]
    },
    {
      "metadata": {
        "trusted": true,
        "_uuid": "e3ca2c5f8d91f60b4c6c45bc66fda106024a0b6f"
      },
      "cell_type": "code",
      "source": "titanic_df['Cabin'].head()",
      "execution_count": 34,
      "outputs": [
        {
          "output_type": "execute_result",
          "execution_count": 34,
          "data": {
            "text/plain": "0     NaN\n1     C85\n2     NaN\n3    C123\n4     NaN\nName: Cabin, dtype: object"
          },
          "metadata": {}
        }
      ]
    },
    {
      "metadata": {
        "trusted": true,
        "_uuid": "3445f2e5088693894edf150d064bd5dfc65fdd6a"
      },
      "cell_type": "code",
      "source": "titantic_df['Fare']",
      "execution_count": 15,
      "outputs": [
        {
          "output_type": "execute_result",
          "execution_count": 15,
          "data": {
            "text/plain": "0        7.2500\n1       71.2833\n2        7.9250\n3       53.1000\n4        8.0500\n5        8.4583\n6       51.8625\n7       21.0750\n8       11.1333\n9       30.0708\n10      16.7000\n11      26.5500\n12       8.0500\n13      31.2750\n14       7.8542\n15      16.0000\n16      29.1250\n17      13.0000\n18      18.0000\n19       7.2250\n20      26.0000\n21      13.0000\n22       8.0292\n23      35.5000\n24      21.0750\n25      31.3875\n26       7.2250\n27     263.0000\n28       7.8792\n29       7.8958\n         ...   \n861     11.5000\n862     25.9292\n863     69.5500\n864     13.0000\n865     13.0000\n866     13.8583\n867     50.4958\n868      9.5000\n869     11.1333\n870      7.8958\n871     52.5542\n872      5.0000\n873      9.0000\n874     24.0000\n875      7.2250\n876      9.8458\n877      7.8958\n878      7.8958\n879     83.1583\n880     26.0000\n881      7.8958\n882     10.5167\n883     10.5000\n884      7.0500\n885     29.1250\n886     13.0000\n887     30.0000\n888     23.4500\n889     30.0000\n890      7.7500\nName: Fare, Length: 891, dtype: float64"
          },
          "metadata": {}
        }
      ]
    },
    {
      "metadata": {
        "trusted": true,
        "_uuid": "3cdda5c9d51f76a362d04b5d73592db597f75423"
      },
      "cell_type": "code",
      "source": "#891 rows and 12 columns\ntitanic_df.shape",
      "execution_count": 35,
      "outputs": [
        {
          "output_type": "execute_result",
          "execution_count": 35,
          "data": {
            "text/plain": "(891, 12)"
          },
          "metadata": {}
        }
      ]
    },
    {
      "metadata": {
        "trusted": true,
        "_uuid": "191bb1735c6d2db79cfb0cce8a33658befc140c1"
      },
      "cell_type": "code",
      "source": "titanic_df[['Name', 'Age']].head()",
      "execution_count": 36,
      "outputs": [
        {
          "output_type": "execute_result",
          "execution_count": 36,
          "data": {
            "text/plain": "                                                Name   Age\n0                            Braund, Mr. Owen Harris  22.0\n1  Cumings, Mrs. John Bradley (Florence Briggs Th...  38.0\n2                             Heikkinen, Miss. Laina  26.0\n3       Futrelle, Mrs. Jacques Heath (Lily May Peel)  35.0\n4                           Allen, Mr. William Henry  35.0",
            "text/html": "<div>\n<style scoped>\n    .dataframe tbody tr th:only-of-type {\n        vertical-align: middle;\n    }\n\n    .dataframe tbody tr th {\n        vertical-align: top;\n    }\n\n    .dataframe thead th {\n        text-align: right;\n    }\n</style>\n<table border=\"1\" class=\"dataframe\">\n  <thead>\n    <tr style=\"text-align: right;\">\n      <th></th>\n      <th>Name</th>\n      <th>Age</th>\n    </tr>\n  </thead>\n  <tbody>\n    <tr>\n      <th>0</th>\n      <td>Braund, Mr. Owen Harris</td>\n      <td>22.0</td>\n    </tr>\n    <tr>\n      <th>1</th>\n      <td>Cumings, Mrs. John Bradley (Florence Briggs Th...</td>\n      <td>38.0</td>\n    </tr>\n    <tr>\n      <th>2</th>\n      <td>Heikkinen, Miss. Laina</td>\n      <td>26.0</td>\n    </tr>\n    <tr>\n      <th>3</th>\n      <td>Futrelle, Mrs. Jacques Heath (Lily May Peel)</td>\n      <td>35.0</td>\n    </tr>\n    <tr>\n      <th>4</th>\n      <td>Allen, Mr. William Henry</td>\n      <td>35.0</td>\n    </tr>\n  </tbody>\n</table>\n</div>"
          },
          "metadata": {}
        }
      ]
    },
    {
      "metadata": {
        "trusted": true,
        "_uuid": "550ab8b6779c2386899a219141cf19ab4d37f31c"
      },
      "cell_type": "code",
      "source": "titantic_df[['Name', 'Age', 'Sex', 'Survived']].head(25)",
      "execution_count": 39,
      "outputs": [
        {
          "output_type": "execute_result",
          "execution_count": 39,
          "data": {
            "text/plain": "                                                 Name    ...     Survived\n0                             Braund, Mr. Owen Harris    ...            0\n1   Cumings, Mrs. John Bradley (Florence Briggs Th...    ...            1\n2                              Heikkinen, Miss. Laina    ...            1\n3        Futrelle, Mrs. Jacques Heath (Lily May Peel)    ...            1\n4                            Allen, Mr. William Henry    ...            0\n5                                    Moran, Mr. James    ...            0\n6                             McCarthy, Mr. Timothy J    ...            0\n7                      Palsson, Master. Gosta Leonard    ...            0\n8   Johnson, Mrs. Oscar W (Elisabeth Vilhelmina Berg)    ...            1\n9                 Nasser, Mrs. Nicholas (Adele Achem)    ...            1\n10                    Sandstrom, Miss. Marguerite Rut    ...            1\n11                           Bonnell, Miss. Elizabeth    ...            1\n12                     Saundercock, Mr. William Henry    ...            0\n13                        Andersson, Mr. Anders Johan    ...            0\n14               Vestrom, Miss. Hulda Amanda Adolfina    ...            0\n15                   Hewlett, Mrs. (Mary D Kingcome)     ...            1\n16                               Rice, Master. Eugene    ...            0\n17                       Williams, Mr. Charles Eugene    ...            1\n18  Vander Planke, Mrs. Julius (Emelia Maria Vande...    ...            0\n19                            Masselmani, Mrs. Fatima    ...            1\n20                               Fynney, Mr. Joseph J    ...            0\n21                              Beesley, Mr. Lawrence    ...            1\n22                        McGowan, Miss. Anna \"Annie\"    ...            1\n23                       Sloper, Mr. William Thompson    ...            1\n24                      Palsson, Miss. Torborg Danira    ...            0\n\n[25 rows x 4 columns]",
            "text/html": "<div>\n<style scoped>\n    .dataframe tbody tr th:only-of-type {\n        vertical-align: middle;\n    }\n\n    .dataframe tbody tr th {\n        vertical-align: top;\n    }\n\n    .dataframe thead th {\n        text-align: right;\n    }\n</style>\n<table border=\"1\" class=\"dataframe\">\n  <thead>\n    <tr style=\"text-align: right;\">\n      <th></th>\n      <th>Name</th>\n      <th>Age</th>\n      <th>Sex</th>\n      <th>Survived</th>\n    </tr>\n  </thead>\n  <tbody>\n    <tr>\n      <th>0</th>\n      <td>Braund, Mr. Owen Harris</td>\n      <td>22.0</td>\n      <td>male</td>\n      <td>0</td>\n    </tr>\n    <tr>\n      <th>1</th>\n      <td>Cumings, Mrs. John Bradley (Florence Briggs Th...</td>\n      <td>38.0</td>\n      <td>female</td>\n      <td>1</td>\n    </tr>\n    <tr>\n      <th>2</th>\n      <td>Heikkinen, Miss. Laina</td>\n      <td>26.0</td>\n      <td>female</td>\n      <td>1</td>\n    </tr>\n    <tr>\n      <th>3</th>\n      <td>Futrelle, Mrs. Jacques Heath (Lily May Peel)</td>\n      <td>35.0</td>\n      <td>female</td>\n      <td>1</td>\n    </tr>\n    <tr>\n      <th>4</th>\n      <td>Allen, Mr. William Henry</td>\n      <td>35.0</td>\n      <td>male</td>\n      <td>0</td>\n    </tr>\n    <tr>\n      <th>5</th>\n      <td>Moran, Mr. James</td>\n      <td>NaN</td>\n      <td>male</td>\n      <td>0</td>\n    </tr>\n    <tr>\n      <th>6</th>\n      <td>McCarthy, Mr. Timothy J</td>\n      <td>54.0</td>\n      <td>male</td>\n      <td>0</td>\n    </tr>\n    <tr>\n      <th>7</th>\n      <td>Palsson, Master. Gosta Leonard</td>\n      <td>2.0</td>\n      <td>male</td>\n      <td>0</td>\n    </tr>\n    <tr>\n      <th>8</th>\n      <td>Johnson, Mrs. Oscar W (Elisabeth Vilhelmina Berg)</td>\n      <td>27.0</td>\n      <td>female</td>\n      <td>1</td>\n    </tr>\n    <tr>\n      <th>9</th>\n      <td>Nasser, Mrs. Nicholas (Adele Achem)</td>\n      <td>14.0</td>\n      <td>female</td>\n      <td>1</td>\n    </tr>\n    <tr>\n      <th>10</th>\n      <td>Sandstrom, Miss. Marguerite Rut</td>\n      <td>4.0</td>\n      <td>female</td>\n      <td>1</td>\n    </tr>\n    <tr>\n      <th>11</th>\n      <td>Bonnell, Miss. Elizabeth</td>\n      <td>58.0</td>\n      <td>female</td>\n      <td>1</td>\n    </tr>\n    <tr>\n      <th>12</th>\n      <td>Saundercock, Mr. William Henry</td>\n      <td>20.0</td>\n      <td>male</td>\n      <td>0</td>\n    </tr>\n    <tr>\n      <th>13</th>\n      <td>Andersson, Mr. Anders Johan</td>\n      <td>39.0</td>\n      <td>male</td>\n      <td>0</td>\n    </tr>\n    <tr>\n      <th>14</th>\n      <td>Vestrom, Miss. Hulda Amanda Adolfina</td>\n      <td>14.0</td>\n      <td>female</td>\n      <td>0</td>\n    </tr>\n    <tr>\n      <th>15</th>\n      <td>Hewlett, Mrs. (Mary D Kingcome)</td>\n      <td>55.0</td>\n      <td>female</td>\n      <td>1</td>\n    </tr>\n    <tr>\n      <th>16</th>\n      <td>Rice, Master. Eugene</td>\n      <td>2.0</td>\n      <td>male</td>\n      <td>0</td>\n    </tr>\n    <tr>\n      <th>17</th>\n      <td>Williams, Mr. Charles Eugene</td>\n      <td>NaN</td>\n      <td>male</td>\n      <td>1</td>\n    </tr>\n    <tr>\n      <th>18</th>\n      <td>Vander Planke, Mrs. Julius (Emelia Maria Vande...</td>\n      <td>31.0</td>\n      <td>female</td>\n      <td>0</td>\n    </tr>\n    <tr>\n      <th>19</th>\n      <td>Masselmani, Mrs. Fatima</td>\n      <td>NaN</td>\n      <td>female</td>\n      <td>1</td>\n    </tr>\n    <tr>\n      <th>20</th>\n      <td>Fynney, Mr. Joseph J</td>\n      <td>35.0</td>\n      <td>male</td>\n      <td>0</td>\n    </tr>\n    <tr>\n      <th>21</th>\n      <td>Beesley, Mr. Lawrence</td>\n      <td>34.0</td>\n      <td>male</td>\n      <td>1</td>\n    </tr>\n    <tr>\n      <th>22</th>\n      <td>McGowan, Miss. Anna \"Annie\"</td>\n      <td>15.0</td>\n      <td>female</td>\n      <td>1</td>\n    </tr>\n    <tr>\n      <th>23</th>\n      <td>Sloper, Mr. William Thompson</td>\n      <td>28.0</td>\n      <td>male</td>\n      <td>1</td>\n    </tr>\n    <tr>\n      <th>24</th>\n      <td>Palsson, Miss. Torborg Danira</td>\n      <td>8.0</td>\n      <td>female</td>\n      <td>0</td>\n    </tr>\n  </tbody>\n</table>\n</div>"
          },
          "metadata": {}
        }
      ]
    },
    {
      "metadata": {
        "trusted": true,
        "_uuid": "87b6bc3cd8561bd21d4311b11560719a6a6b88c7"
      },
      "cell_type": "code",
      "source": "titanic_df['Sex'].value_counts()",
      "execution_count": 41,
      "outputs": [
        {
          "output_type": "execute_result",
          "execution_count": 41,
          "data": {
            "text/plain": "male      577\nfemale    314\nName: Sex, dtype: int64"
          },
          "metadata": {}
        }
      ]
    },
    {
      "metadata": {
        "trusted": true,
        "_uuid": "e76afd808a5c78bee95992410f606decb8e32a77"
      },
      "cell_type": "code",
      "source": "titanic_df['Pclass'].value_counts()",
      "execution_count": 38,
      "outputs": [
        {
          "output_type": "execute_result",
          "execution_count": 38,
          "data": {
            "text/plain": "3    491\n1    216\n2    184\nName: Pclass, dtype: int64"
          },
          "metadata": {}
        }
      ]
    },
    {
      "metadata": {
        "trusted": true,
        "_uuid": "2557d0d2869ce4fdb18c13b8065d089cf178a922"
      },
      "cell_type": "code",
      "source": "titanic_df_female = titanic_df[titanic_df['Sex'] =='female']",
      "execution_count": 43,
      "outputs": []
    },
    {
      "metadata": {
        "trusted": true,
        "_uuid": "a4e1f3d1087a53fda765757b3b78b6e3a87cb91e"
      },
      "cell_type": "code",
      "source": "titanic_df_female.head()",
      "execution_count": 44,
      "outputs": [
        {
          "output_type": "execute_result",
          "execution_count": 44,
          "data": {
            "text/plain": "   PassengerId  Survived  Pclass    ...        Fare Cabin  Embarked\n1            2         1       1    ...     71.2833   C85         C\n2            3         1       3    ...      7.9250   NaN         S\n3            4         1       1    ...     53.1000  C123         S\n8            9         1       3    ...     11.1333   NaN         S\n9           10         1       2    ...     30.0708   NaN         C\n\n[5 rows x 12 columns]",
            "text/html": "<div>\n<style scoped>\n    .dataframe tbody tr th:only-of-type {\n        vertical-align: middle;\n    }\n\n    .dataframe tbody tr th {\n        vertical-align: top;\n    }\n\n    .dataframe thead th {\n        text-align: right;\n    }\n</style>\n<table border=\"1\" class=\"dataframe\">\n  <thead>\n    <tr style=\"text-align: right;\">\n      <th></th>\n      <th>PassengerId</th>\n      <th>Survived</th>\n      <th>Pclass</th>\n      <th>Name</th>\n      <th>Sex</th>\n      <th>Age</th>\n      <th>SibSp</th>\n      <th>Parch</th>\n      <th>Ticket</th>\n      <th>Fare</th>\n      <th>Cabin</th>\n      <th>Embarked</th>\n    </tr>\n  </thead>\n  <tbody>\n    <tr>\n      <th>1</th>\n      <td>2</td>\n      <td>1</td>\n      <td>1</td>\n      <td>Cumings, Mrs. John Bradley (Florence Briggs Th...</td>\n      <td>female</td>\n      <td>38.0</td>\n      <td>1</td>\n      <td>0</td>\n      <td>PC 17599</td>\n      <td>71.2833</td>\n      <td>C85</td>\n      <td>C</td>\n    </tr>\n    <tr>\n      <th>2</th>\n      <td>3</td>\n      <td>1</td>\n      <td>3</td>\n      <td>Heikkinen, Miss. Laina</td>\n      <td>female</td>\n      <td>26.0</td>\n      <td>0</td>\n      <td>0</td>\n      <td>STON/O2. 3101282</td>\n      <td>7.9250</td>\n      <td>NaN</td>\n      <td>S</td>\n    </tr>\n    <tr>\n      <th>3</th>\n      <td>4</td>\n      <td>1</td>\n      <td>1</td>\n      <td>Futrelle, Mrs. Jacques Heath (Lily May Peel)</td>\n      <td>female</td>\n      <td>35.0</td>\n      <td>1</td>\n      <td>0</td>\n      <td>113803</td>\n      <td>53.1000</td>\n      <td>C123</td>\n      <td>S</td>\n    </tr>\n    <tr>\n      <th>8</th>\n      <td>9</td>\n      <td>1</td>\n      <td>3</td>\n      <td>Johnson, Mrs. Oscar W (Elisabeth Vilhelmina Berg)</td>\n      <td>female</td>\n      <td>27.0</td>\n      <td>0</td>\n      <td>2</td>\n      <td>347742</td>\n      <td>11.1333</td>\n      <td>NaN</td>\n      <td>S</td>\n    </tr>\n    <tr>\n      <th>9</th>\n      <td>10</td>\n      <td>1</td>\n      <td>2</td>\n      <td>Nasser, Mrs. Nicholas (Adele Achem)</td>\n      <td>female</td>\n      <td>14.0</td>\n      <td>1</td>\n      <td>0</td>\n      <td>237736</td>\n      <td>30.0708</td>\n      <td>NaN</td>\n      <td>C</td>\n    </tr>\n  </tbody>\n</table>\n</div>"
          },
          "metadata": {}
        }
      ]
    },
    {
      "metadata": {
        "trusted": true,
        "collapsed": true,
        "_uuid": "f96c39d64e413d81db338d7952b693ff30d769cc"
      },
      "cell_type": "code",
      "source": "",
      "execution_count": null,
      "outputs": []
    }
  ],
  "metadata": {
    "kernelspec": {
      "display_name": "Python 3",
      "language": "python",
      "name": "python3"
    },
    "language_info": {
      "name": "python",
      "version": "3.6.5",
      "mimetype": "text/x-python",
      "codemirror_mode": {
        "name": "ipython",
        "version": 3
      },
      "pygments_lexer": "ipython3",
      "nbconvert_exporter": "python",
      "file_extension": ".py"
    }
  },
  "nbformat": 4,
  "nbformat_minor": 1
}